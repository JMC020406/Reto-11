{
 "cells": [
  {
   "cell_type": "markdown",
   "metadata": {},
   "source": [
    "# RETO 11\n",
    "### MATRICES\n",
    "#### Punto 1 / Suma de matrices"
   ]
  },
  {
   "cell_type": "code",
   "execution_count": null,
   "metadata": {},
   "outputs": [],
   "source": [
    "def sum_de_matrices (A=list , B=list)->list:\n",
    "\n",
    "    S=[]\n",
    "    S1=[]\n",
    "\n",
    "    for wa in range (f):\n",
    "        for we in range (c):\n",
    "            s = (A[wa][we]) + (B[wa][we])\n",
    "            S1.append (s)\n",
    "        S.append (S1)\n",
    "        S1 = []\n",
    "\n",
    "    return S\n",
    "\n",
    "if __name__ == \"__main__\":\n",
    "    c=int(input(\"Ingrese la cantidad de columnas que van a tener las matrices: \"))\n",
    "    f=int(input(\"Ingrese la cantidad de filas que van a tener las matrices: \"))\n",
    "    A=[]\n",
    "    A1=[]\n",
    "    B=[]\n",
    "    B1=[]\n",
    "\n",
    "    for wa in range (f):\n",
    "        for we in range (c):\n",
    "            a=float(input(f\"Ingrese el valor que ira en ({wa+1} , {we+1}) en la matriz A: \"))\n",
    "            A1.append (a)\n",
    "        A.append (A1)\n",
    "        A1 = []\n",
    "\n",
    "    for wa in range (f):\n",
    "        for we in range (c):\n",
    "            b=float(input(f\"Ingrese el valor que ira en ({wa+1} , {we+1}) en la matriz B: \"))\n",
    "            B1.append (b)\n",
    "        B.append (B1)\n",
    "        B1 = []\n",
    "\n",
    "total_matrices = sum_de_matrices(A,B)\n",
    "\n",
    "print (f\"La sumatoria de las matrices es: \\n {A} + {B} = {total_matrices}\")"
   ]
  },
  {
   "cell_type": "markdown",
   "metadata": {},
   "source": [
    "#### Punto 2 / Multiplicación de matrices"
   ]
  },
  {
   "cell_type": "code",
   "execution_count": null,
   "metadata": {},
   "outputs": [],
   "source": [
    "def multi_de_matrices (A=list, B=list, fa=int, cb=int, x=int)->list:\n",
    "\n",
    "    M = []\n",
    "\n",
    "    for i in range(fa):\n",
    "        M1 = []\n",
    "        for e in range(cb):\n",
    "            m = 0\n",
    "            for k in range(x):\n",
    "                m += A[i][k] * B[k][e]\n",
    "            M1.append(m)\n",
    "        M.append(M1)\n",
    "\n",
    "    return M\n",
    "\n",
    "if __name__ == \"__main__\":\n",
    "    x=int(input(\"Número de columnas que va a tener A y filas que va a tener B: \"))\n",
    "    fa=int(input(\"Número de filas que va a tener A: \"))\n",
    "    cb=int(input(\"Número de columnas que va a tener B: \")) \n",
    "    A=[]\n",
    "    B=[]\n",
    "\n",
    "    for wa in range (fa):\n",
    "        A1=[]\n",
    "        for we in range (x):\n",
    "            a=float(input(f\"Ingrese el valor que ira en la posición ({wa+1} , {we+1}) en la matriz A: \"))\n",
    "            A1.append (a)\n",
    "        A.append (A1)\n",
    "\n",
    "    for wa in range (x):\n",
    "        B1=[]\n",
    "        for we in range (cb):\n",
    "            b=float(input(f\"Ingrese el valor que ira en la posición ({wa+1} , {we+1}) en la matriz B: \"))\n",
    "            B1.append (b)\n",
    "        B.append (B1)\n",
    "\n",
    "producto_matrices = multi_de_matrices(A,B,fa,cb,x)\n",
    "\n",
    "print (f\"El producto de las matrices es: \\n {A} x {B} = {producto_matrices}\")"
   ]
  },
  {
   "cell_type": "markdown",
   "metadata": {},
   "source": [
    "#### Punto 3 / Matriz transpuesta"
   ]
  },
  {
   "cell_type": "code",
   "execution_count": null,
   "metadata": {},
   "outputs": [],
   "source": [
    "def trans_de_matriz (A=list, f=int, c=int)->list:\n",
    "\n",
    "    At = []\n",
    "\n",
    "    for wa in range (c):\n",
    "        At1 = []\n",
    "        for we in range (f):\n",
    "            at = (A[we][wa])\n",
    "            At1.append (at)\n",
    "        At.append (At1)\n",
    "\n",
    "    return At\n",
    "\n",
    "if __name__ == \"__main__\":\n",
    "    f=int(input(\"Ingrese la cantidad de filas que tendra la matriz A: \"))\n",
    "    c=int(input(\"Ingrese la cantidad de columnas que tendra la matriz A: \"))\n",
    "    \n",
    "    A = []\n",
    "\n",
    "    for wa in range (f):\n",
    "        A1 = []\n",
    "        for we in range (c):\n",
    "            a=float(input(f\"Indique cual valor ira en ({wa+1} , {we+1}): \"))\n",
    "            A1.append (a)\n",
    "        A.append (A1)\n",
    "\n",
    "print (\"Matriz original: \")\n",
    "for fila in A:\n",
    "    print (fila)\n",
    "\n",
    "print (\"Matriz transpuesta: \")\n",
    "for fila in (trans_de_matriz(A,f,c)):\n",
    "    print (fila)"
   ]
  },
  {
   "cell_type": "markdown",
   "metadata": {},
   "source": [
    "#### Punto 4 / Suma de una columna"
   ]
  },
  {
   "cell_type": "code",
   "execution_count": null,
   "metadata": {},
   "outputs": [],
   "source": [
    "def suma_columna (A=list, f=int, x=int)->float:\n",
    "\n",
    "    sum_col = 0\n",
    "    for wa in range (f):\n",
    "        sum_col += (A[wa][x-1])\n",
    "\n",
    "    return sum_col\n",
    "\n",
    "if __name__ == \"__main__\":\n",
    "    f=int(input(\"Ingrese la cantidad de filas que tendra la matriz A: \"))\n",
    "    c=int(input(\"Ingrese la cantidad de columnas que tendra la matriz A: \"))\n",
    "    \n",
    "    A = []\n",
    "\n",
    "    for wa in range (f):\n",
    "        A1 = []\n",
    "        for we in range (c):\n",
    "            a=float(input(f\"Indique cual valor ira en ({wa+1} , {we+1}): \"))\n",
    "            A1.append (a)\n",
    "        A.append (A1)\n",
    "\n",
    "    x=int(input(\"Cual columna quiere sumar: \"))\n",
    "\n",
    "suma_col = suma_columna(A,f,x)\n",
    "\n",
    "print (f\"La suma de los elementos de la {x} columna de la matriz {A} es igual a {suma_col}\")"
   ]
  },
  {
   "cell_type": "markdown",
   "metadata": {},
   "source": [
    "#### Punto 5 / Suma de una fila"
   ]
  },
  {
   "cell_type": "code",
   "execution_count": null,
   "metadata": {},
   "outputs": [],
   "source": [
    "def suma_fila (A=list, c=int, x=int)->float:\n",
    "\n",
    "    sum_fil = 0\n",
    "    for wa in range (c):\n",
    "        sum_fil += (A[x-1][wa])\n",
    "\n",
    "    return sum_fil\n",
    "\n",
    "if __name__ == \"__main__\":\n",
    "    f=int(input(\"Ingrese la cantidad de filas que tendra la matriz A: \"))\n",
    "    c=int(input(\"Ingrese la cantidad de columnas que tendra la matriz A: \"))\n",
    "    \n",
    "    A = []\n",
    "\n",
    "    for wa in range (f):\n",
    "        A1 = []\n",
    "        for we in range (c):\n",
    "            a=float(input(f\"Indique cual valor ira en ({wa+1} , {we+1}): \"))\n",
    "            A1.append (a)\n",
    "        A.append (A1)\n",
    "\n",
    "    x=int(input(\"Cual fila quiere sumar: \"))\n",
    "\n",
    "suma_fil = suma_fila(A,c,x)\n",
    "\n",
    "print (f\"La suma de los elementos de la {x} fila de la matriz {A} es igual a {suma_fil}\")"
   ]
  }
 ],
 "metadata": {
  "kernelspec": {
   "display_name": "Python 3",
   "language": "python",
   "name": "python3"
  },
  "language_info": {
   "name": "python",
   "version": "3.11.8"
  }
 },
 "nbformat": 4,
 "nbformat_minor": 2
}
